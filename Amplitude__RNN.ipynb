{
  "nbformat": 4,
  "nbformat_minor": 0,
  "metadata": {
    "colab": {
      "name": "5_RNN.ipynb",
      "provenance": [],
      "collapsed_sections": []
    },
    "kernelspec": {
      "name": "python3",
      "display_name": "Python 3"
    },
    "language_info": {
      "name": "python"
    },
    "accelerator": "GPU"
  },
  "cells": [
    {
      "cell_type": "code",
      "execution_count": 1,
      "metadata": {
        "colab": {
          "base_uri": "https://localhost:8080/"
        },
        "id": "jkPPYyz6Vxk2",
        "outputId": "25107229-de4e-4739-cc19-2037ded22f03"
      },
      "outputs": [
        {
          "output_type": "stream",
          "name": "stdout",
          "text": [
            "Mounted at /content/mydrive/\n"
          ]
        }
      ],
      "source": [
        "from google.colab import drive\n",
        "\n",
        "drive.mount('/content/mydrive/')"
      ]
    },
    {
      "cell_type": "code",
      "source": [
        "import numpy as np\n",
        "import pandas as pd\n",
        "import tensorflow as tf\n",
        "from sklearn.preprocessing import StandardScaler\n",
        "print(tf.__version__)"
      ],
      "metadata": {
        "colab": {
          "base_uri": "https://localhost:8080/"
        },
        "id": "nh6AHChJV9Eh",
        "outputId": "636f30cc-b0ca-479d-92d5-0c56179d77e3"
      },
      "execution_count": 2,
      "outputs": [
        {
          "output_type": "stream",
          "name": "stdout",
          "text": [
            "2.8.0\n"
          ]
        }
      ]
    },
    {
      "cell_type": "code",
      "source": [
        "df_train = pd.read_csv('/content/mydrive/MyDrive/Colab Notebooks/Deep Learning/Homework_05/Code/Dataset/train.csv', header=None)\n",
        "df_test = pd.read_csv('/content/mydrive/MyDrive/Colab Notebooks/Deep Learning/Homework_05/Code/Dataset/test.csv', header=None)"
      ],
      "metadata": {
        "id": "XUIE8ua_WL3-"
      },
      "execution_count": 3,
      "outputs": []
    },
    {
      "cell_type": "code",
      "source": [
        "df_train_x = df_train.drop([500], axis=1)\n",
        "df_train_y = df_train[500]\n",
        "df_test_x = df_test.drop([500], axis=1)\n",
        "df_test_y = df_test[500]"
      ],
      "metadata": {
        "id": "XFn6mNaNW_rD"
      },
      "execution_count": 4,
      "outputs": []
    },
    {
      "cell_type": "code",
      "source": [
        "train_x = df_train_x.to_numpy()\n",
        "train_y = df_train_y.to_numpy()\n",
        "\n",
        "test_x = df_test_x.to_numpy()\n",
        "test_y = df_test_y.to_numpy()"
      ],
      "metadata": {
        "id": "cs5lhgY2Yp6V"
      },
      "execution_count": 5,
      "outputs": []
    },
    {
      "cell_type": "code",
      "source": [
        "scaler = StandardScaler().fit(train_x)\n",
        "train_x = scaler.transform(train_x)"
      ],
      "metadata": {
        "id": "5lor6i2Tapes"
      },
      "execution_count": 6,
      "outputs": []
    },
    {
      "cell_type": "code",
      "source": [
        "scaler = StandardScaler().fit(test_x)\n",
        "test_x = scaler.transform(test_x)"
      ],
      "metadata": {
        "id": "NuOS3C27azRS"
      },
      "execution_count": 7,
      "outputs": []
    },
    {
      "cell_type": "code",
      "source": [
        "length = 500\n",
        "\n",
        "my_rnn = tf.keras.models.Sequential()\n",
        "\n",
        "my_rnn.add(tf.keras.layers.SimpleRNN(units = length, input_shape = (length,1)))\n",
        "my_rnn.add(tf.keras.layers.Dense(256))\n",
        "#my_rnn.add(tf.keras.layers.Dense(100))\n",
        "\n",
        "my_rnn.summary()"
      ],
      "metadata": {
        "id": "607bea9ubKzd",
        "colab": {
          "base_uri": "https://localhost:8080/"
        },
        "outputId": "2dde2327-7444-40c2-b621-0dc51441427c"
      },
      "execution_count": 8,
      "outputs": [
        {
          "output_type": "stream",
          "name": "stdout",
          "text": [
            "Model: \"sequential\"\n",
            "_________________________________________________________________\n",
            " Layer (type)                Output Shape              Param #   \n",
            "=================================================================\n",
            " simple_rnn (SimpleRNN)      (None, 500)               251000    \n",
            "                                                                 \n",
            " dense (Dense)               (None, 256)               128256    \n",
            "                                                                 \n",
            "=================================================================\n",
            "Total params: 379,256\n",
            "Trainable params: 379,256\n",
            "Non-trainable params: 0\n",
            "_________________________________________________________________\n"
          ]
        }
      ]
    },
    {
      "cell_type": "code",
      "source": [
        "x = my_rnn.output\n",
        "x = tf.keras.layers.Dense(128, activation = 'relu')(x)\n",
        "x = tf.keras.layers.Dense(128, activation = 'relu')(x)\n",
        "x = tf.keras.layers.Dense(128, activation = 'relu')(x)\n",
        "x = tf.keras.layers.Dense(64, activation = 'relu')(x)\n",
        "x = tf.keras.layers.Dense(64, activation = 'relu')(x)\n",
        "x = tf.keras.layers.Dense(64, activation = 'relu')(x)\n",
        "x = tf.keras.layers.Dropout(0.5)(x)\n",
        "new_outputs = tf.keras.layers.Dense(12)(x)\n",
        "new_outputs = tf.keras.activations.softmax(new_outputs)"
      ],
      "metadata": {
        "id": "xB2X4HQ3cUjn"
      },
      "execution_count": 9,
      "outputs": []
    },
    {
      "cell_type": "code",
      "source": [
        "#Constrauct the main model\n",
        "model = tf.keras.models.Model(inputs = my_rnn.inputs, outputs = new_outputs)\n",
        "model.compile(loss = \"sparse_categorical_crossentropy\", optimizer =\"adam\", metrics = [\"accuracy\"])\n",
        "model.summary()"
      ],
      "metadata": {
        "colab": {
          "base_uri": "https://localhost:8080/"
        },
        "id": "PNVrHgngcWf3",
        "outputId": "e08f6617-207d-4d15-e093-a41f9a1e876f"
      },
      "execution_count": 10,
      "outputs": [
        {
          "output_type": "stream",
          "name": "stdout",
          "text": [
            "Model: \"model\"\n",
            "_________________________________________________________________\n",
            " Layer (type)                Output Shape              Param #   \n",
            "=================================================================\n",
            " simple_rnn_input (InputLaye  [(None, 500, 1)]         0         \n",
            " r)                                                              \n",
            "                                                                 \n",
            " simple_rnn (SimpleRNN)      (None, 500)               251000    \n",
            "                                                                 \n",
            " dense (Dense)               (None, 256)               128256    \n",
            "                                                                 \n",
            " dense_1 (Dense)             (None, 128)               32896     \n",
            "                                                                 \n",
            " dense_2 (Dense)             (None, 128)               16512     \n",
            "                                                                 \n",
            " dense_3 (Dense)             (None, 128)               16512     \n",
            "                                                                 \n",
            " dense_4 (Dense)             (None, 64)                8256      \n",
            "                                                                 \n",
            " dense_5 (Dense)             (None, 64)                4160      \n",
            "                                                                 \n",
            " dense_6 (Dense)             (None, 64)                4160      \n",
            "                                                                 \n",
            " dropout (Dropout)           (None, 64)                0         \n",
            "                                                                 \n",
            " dense_7 (Dense)             (None, 12)                780       \n",
            "                                                                 \n",
            " tf.nn.softmax (TFOpLambda)  (None, 12)                0         \n",
            "                                                                 \n",
            "=================================================================\n",
            "Total params: 462,532\n",
            "Trainable params: 462,532\n",
            "Non-trainable params: 0\n",
            "_________________________________________________________________\n"
          ]
        }
      ]
    },
    {
      "cell_type": "code",
      "source": [
        "tf.keras.utils.plot_model(model, to_file = \"cnn_functional.png\", show_shapes = True, show_dtype = True, show_layer_names = False, dpi = 96)"
      ],
      "metadata": {
        "colab": {
          "base_uri": "https://localhost:8080/",
          "height": 1000
        },
        "id": "YLGHUNuJccRY",
        "outputId": "74d0d746-0e7b-4123-d4f0-7a0d937544ff"
      },
      "execution_count": 11,
      "outputs": [
        {
          "output_type": "execute_result",
          "data": {
            "text/plain": [
              "<IPython.core.display.Image object>"
            ],
            "image/png": "[encoded data removed]"
          },
          "metadata": {},
          "execution_count": 11
        }
      ]
    },
    {
      "cell_type": "code",
      "source": [
        "#adam = tf.keras.optimizers.Adam(learning_rate = 0.001)\n",
        "\n",
        "#my_rnn.compile(loss = \"sparse_categorical_crossentropy\", optimizer = adam, metrics = [\"accuracy\"])\n",
        "\n",
        "checkpoint_filepath = \"bestmodel.hdf5\"\n",
        "\n",
        "model_checkpoint_callback = tf.keras.callbacks.ModelCheckpoint(filepath = checkpoint_filepath, save_weight_only = False, monitor = \"accuracy\", mode=\"max\", save_best_only = True, verbose=2)"
      ],
      "metadata": {
        "id": "DFC7hPyBcX9o"
      },
      "execution_count": 14,
      "outputs": []
    },
    {
      "cell_type": "code",
      "source": [
        "hist = model.fit(train_x, train_y, batch_size = 100, epochs = 100, callbacks = [model_checkpoint_callback],validation_split = 0.2, verbose=1)"
      ],
      "metadata": {
        "colab": {
          "base_uri": "https://localhost:8080/"
        },
        "id": "pepupU6CcjQp",
        "outputId": "70db2dee-6c82-4219-edfe-f2d3b83af3f1"
      },
      "execution_count": 16,
      "outputs": [
        {
          "output_type": "stream",
          "name": "stdout",
          "text": [
            "Epoch 1/100\n",
            "51/51 [==============================] - ETA: 0s - loss: 2.1525 - accuracy: 0.1607\n",
            "Epoch 1: accuracy improved from -inf to 0.16074, saving model to bestmodel.hdf5\n",
            "51/51 [==============================] - 17s 322ms/step - loss: 2.1525 - accuracy: 0.1607 - val_loss: nan - val_accuracy: 0.0000e+00\n",
            "Epoch 2/100\n",
            "51/51 [==============================] - ETA: 0s - loss: 2.1540 - accuracy: 0.1649\n",
            "Epoch 2: accuracy improved from 0.16074 to 0.16487, saving model to bestmodel.hdf5\n",
            "51/51 [==============================] - 15s 303ms/step - loss: 2.1540 - accuracy: 0.1649 - val_loss: nan - val_accuracy: 0.0000e+00\n",
            "Epoch 3/100\n",
            "51/51 [==============================] - ETA: 0s - loss: 2.1514 - accuracy: 0.1649\n",
            "Epoch 3: accuracy did not improve from 0.16487\n",
            "51/51 [==============================] - 15s 303ms/step - loss: 2.1514 - accuracy: 0.1649 - val_loss: nan - val_accuracy: 0.0000e+00\n",
            "Epoch 4/100\n",
            "51/51 [==============================] - ETA: 0s - loss: 2.1523 - accuracy: 0.1641\n",
            "Epoch 4: accuracy did not improve from 0.16487\n",
            "51/51 [==============================] - 16s 306ms/step - loss: 2.1523 - accuracy: 0.1641 - val_loss: nan - val_accuracy: 0.0000e+00\n",
            "Epoch 5/100\n",
            "51/51 [==============================] - ETA: 0s - loss: 2.1535 - accuracy: 0.1637\n",
            "Epoch 5: accuracy did not improve from 0.16487\n",
            "51/51 [==============================] - 16s 313ms/step - loss: 2.1535 - accuracy: 0.1637 - val_loss: nan - val_accuracy: 0.0000e+00\n",
            "Epoch 6/100\n",
            "51/51 [==============================] - ETA: 0s - loss: 2.1528 - accuracy: 0.1641\n",
            "Epoch 6: accuracy did not improve from 0.16487\n",
            "51/51 [==============================] - 15s 303ms/step - loss: 2.1528 - accuracy: 0.1641 - val_loss: nan - val_accuracy: 0.0000e+00\n",
            "Epoch 7/100\n",
            "51/51 [==============================] - ETA: 0s - loss: 2.1522 - accuracy: 0.1607\n",
            "Epoch 7: accuracy did not improve from 0.16487\n",
            "51/51 [==============================] - 16s 309ms/step - loss: 2.1522 - accuracy: 0.1607 - val_loss: nan - val_accuracy: 0.0000e+00\n",
            "Epoch 8/100\n",
            "51/51 [==============================] - ETA: 0s - loss: 2.1515 - accuracy: 0.1653\n",
            "Epoch 8: accuracy improved from 0.16487 to 0.16526, saving model to bestmodel.hdf5\n",
            "51/51 [==============================] - 16s 308ms/step - loss: 2.1515 - accuracy: 0.1653 - val_loss: nan - val_accuracy: 0.0000e+00\n",
            "Epoch 9/100\n",
            "51/51 [==============================] - ETA: 0s - loss: 2.1509 - accuracy: 0.1649\n",
            "Epoch 9: accuracy did not improve from 0.16526\n",
            "51/51 [==============================] - 16s 309ms/step - loss: 2.1509 - accuracy: 0.1649 - val_loss: nan - val_accuracy: 0.0000e+00\n",
            "Epoch 10/100\n",
            "51/51 [==============================] - ETA: 0s - loss: 2.1499 - accuracy: 0.1617\n",
            "Epoch 10: accuracy did not improve from 0.16526\n",
            "51/51 [==============================] - 16s 316ms/step - loss: 2.1499 - accuracy: 0.1617 - val_loss: nan - val_accuracy: 0.0000e+00\n",
            "Epoch 11/100\n",
            "51/51 [==============================] - ETA: 0s - loss: 2.1521 - accuracy: 0.1657\n",
            "Epoch 11: accuracy improved from 0.16526 to 0.16565, saving model to bestmodel.hdf5\n",
            "51/51 [==============================] - 15s 304ms/step - loss: 2.1521 - accuracy: 0.1657 - val_loss: nan - val_accuracy: 0.0000e+00\n",
            "Epoch 12/100\n",
            "51/51 [==============================] - ETA: 0s - loss: 2.1516 - accuracy: 0.1651\n",
            "Epoch 12: accuracy did not improve from 0.16565\n",
            "51/51 [==============================] - 15s 299ms/step - loss: 2.1516 - accuracy: 0.1651 - val_loss: nan - val_accuracy: 0.0000e+00\n",
            "Epoch 13/100\n",
            "51/51 [==============================] - ETA: 0s - loss: 2.1511 - accuracy: 0.1611\n",
            "Epoch 13: accuracy did not improve from 0.16565\n",
            "51/51 [==============================] - 17s 325ms/step - loss: 2.1511 - accuracy: 0.1611 - val_loss: nan - val_accuracy: 0.0000e+00\n",
            "Epoch 14/100\n",
            "51/51 [==============================] - ETA: 0s - loss: 2.1518 - accuracy: 0.1645\n",
            "Epoch 14: accuracy did not improve from 0.16565\n",
            "51/51 [==============================] - 16s 306ms/step - loss: 2.1518 - accuracy: 0.1645 - val_loss: nan - val_accuracy: 0.0000e+00\n",
            "Epoch 15/100\n",
            "51/51 [==============================] - ETA: 0s - loss: 2.1515 - accuracy: 0.1603\n",
            "Epoch 15: accuracy did not improve from 0.16565\n",
            "51/51 [==============================] - 15s 302ms/step - loss: 2.1515 - accuracy: 0.1603 - val_loss: nan - val_accuracy: 0.0000e+00\n",
            "Epoch 16/100\n",
            "51/51 [==============================] - ETA: 0s - loss: 2.1522 - accuracy: 0.1623\n",
            "Epoch 16: accuracy did not improve from 0.16565\n",
            "51/51 [==============================] - 15s 299ms/step - loss: 2.1522 - accuracy: 0.1623 - val_loss: nan - val_accuracy: 0.0000e+00\n",
            "Epoch 17/100\n",
            "51/51 [==============================] - ETA: 0s - loss: 2.1525 - accuracy: 0.1641\n",
            "Epoch 17: accuracy did not improve from 0.16565\n",
            "51/51 [==============================] - 15s 302ms/step - loss: 2.1525 - accuracy: 0.1641 - val_loss: nan - val_accuracy: 0.0000e+00\n",
            "Epoch 18/100\n",
            "51/51 [==============================] - ETA: 0s - loss: 2.1507 - accuracy: 0.1653\n",
            "Epoch 18: accuracy did not improve from 0.16565\n",
            "51/51 [==============================] - 15s 302ms/step - loss: 2.1507 - accuracy: 0.1653 - val_loss: nan - val_accuracy: 0.0000e+00\n",
            "Epoch 19/100\n",
            "51/51 [==============================] - ETA: 0s - loss: 2.1499 - accuracy: 0.1623\n",
            "Epoch 19: accuracy did not improve from 0.16565\n",
            "51/51 [==============================] - 16s 316ms/step - loss: 2.1499 - accuracy: 0.1623 - val_loss: nan - val_accuracy: 0.0000e+00\n",
            "Epoch 20/100\n",
            "51/51 [==============================] - ETA: 0s - loss: 2.1518 - accuracy: 0.1643\n",
            "Epoch 20: accuracy did not improve from 0.16565\n",
            "51/51 [==============================] - 15s 302ms/step - loss: 2.1518 - accuracy: 0.1643 - val_loss: nan - val_accuracy: 0.0000e+00\n",
            "Epoch 21/100\n",
            "51/51 [==============================] - ETA: 0s - loss: 2.1535 - accuracy: 0.1625\n",
            "Epoch 21: accuracy did not improve from 0.16565\n",
            "51/51 [==============================] - 15s 304ms/step - loss: 2.1535 - accuracy: 0.1625 - val_loss: nan - val_accuracy: 0.0000e+00\n",
            "Epoch 22/100\n",
            "51/51 [==============================] - ETA: 0s - loss: 2.1505 - accuracy: 0.1641\n",
            "Epoch 22: accuracy did not improve from 0.16565\n",
            "51/51 [==============================] - 15s 303ms/step - loss: 2.1505 - accuracy: 0.1641 - val_loss: nan - val_accuracy: 0.0000e+00\n",
            "Epoch 23/100\n",
            "51/51 [==============================] - ETA: 0s - loss: 2.1522 - accuracy: 0.1657\n",
            "Epoch 23: accuracy did not improve from 0.16565\n",
            "51/51 [==============================] - 15s 301ms/step - loss: 2.1522 - accuracy: 0.1657 - val_loss: nan - val_accuracy: 0.0000e+00\n",
            "Epoch 24/100\n",
            "51/51 [==============================] - ETA: 0s - loss: 2.1513 - accuracy: 0.1657\n",
            "Epoch 24: accuracy did not improve from 0.16565\n",
            "51/51 [==============================] - 15s 302ms/step - loss: 2.1513 - accuracy: 0.1657 - val_loss: nan - val_accuracy: 0.0000e+00\n",
            "Epoch 25/100\n",
            "51/51 [==============================] - ETA: 0s - loss: 2.1525 - accuracy: 0.1666\n",
            "Epoch 25: accuracy improved from 0.16565 to 0.16663, saving model to bestmodel.hdf5\n",
            "51/51 [==============================] - 16s 305ms/step - loss: 2.1525 - accuracy: 0.1666 - val_loss: nan - val_accuracy: 0.0000e+00\n",
            "Epoch 26/100\n",
            "51/51 [==============================] - ETA: 0s - loss: 2.1522 - accuracy: 0.1603\n",
            "Epoch 26: accuracy did not improve from 0.16663\n",
            "51/51 [==============================] - 15s 303ms/step - loss: 2.1522 - accuracy: 0.1603 - val_loss: nan - val_accuracy: 0.0000e+00\n",
            "Epoch 27/100\n",
            "51/51 [==============================] - ETA: 0s - loss: 2.1488 - accuracy: 0.1662\n",
            "Epoch 27: accuracy did not improve from 0.16663\n",
            "51/51 [==============================] - 15s 302ms/step - loss: 2.1488 - accuracy: 0.1662 - val_loss: nan - val_accuracy: 0.0000e+00\n",
            "Epoch 28/100\n",
            "51/51 [==============================] - ETA: 0s - loss: 2.1523 - accuracy: 0.1649\n",
            "Epoch 28: accuracy did not improve from 0.16663\n",
            "51/51 [==============================] - 15s 301ms/step - loss: 2.1523 - accuracy: 0.1649 - val_loss: nan - val_accuracy: 0.0000e+00\n",
            "Epoch 29/100\n",
            "51/51 [==============================] - ETA: 0s - loss: 2.1508 - accuracy: 0.1621\n",
            "Epoch 29: accuracy did not improve from 0.16663\n",
            "51/51 [==============================] - 15s 304ms/step - loss: 2.1508 - accuracy: 0.1621 - val_loss: nan - val_accuracy: 0.0000e+00\n",
            "Epoch 30/100\n",
            "51/51 [==============================] - ETA: 0s - loss: 2.1517 - accuracy: 0.1684\n",
            "Epoch 30: accuracy improved from 0.16663 to 0.16840, saving model to bestmodel.hdf5\n",
            "51/51 [==============================] - 16s 310ms/step - loss: 2.1517 - accuracy: 0.1684 - val_loss: nan - val_accuracy: 0.0000e+00\n",
            "Epoch 31/100\n",
            "51/51 [==============================] - ETA: 0s - loss: 2.1496 - accuracy: 0.1657\n",
            "Epoch 31: accuracy did not improve from 0.16840\n",
            "51/51 [==============================] - 15s 301ms/step - loss: 2.1496 - accuracy: 0.1657 - val_loss: nan - val_accuracy: 0.0000e+00\n",
            "Epoch 32/100\n",
            "51/51 [==============================] - ETA: 0s - loss: 2.1502 - accuracy: 0.1617\n",
            "Epoch 32: accuracy did not improve from 0.16840\n",
            "51/51 [==============================] - 15s 304ms/step - loss: 2.1502 - accuracy: 0.1617 - val_loss: nan - val_accuracy: 0.0000e+00\n",
            "Epoch 33/100\n",
            "51/51 [==============================] - ETA: 0s - loss: 2.1512 - accuracy: 0.1600\n",
            "Epoch 33: accuracy did not improve from 0.16840\n",
            "51/51 [==============================] - 15s 303ms/step - loss: 2.1512 - accuracy: 0.1600 - val_loss: nan - val_accuracy: 0.0000e+00\n",
            "Epoch 34/100\n",
            "51/51 [==============================] - ETA: 0s - loss: 2.1506 - accuracy: 0.1598\n",
            "Epoch 34: accuracy did not improve from 0.16840\n",
            "51/51 [==============================] - 15s 302ms/step - loss: 2.1506 - accuracy: 0.1598 - val_loss: nan - val_accuracy: 0.0000e+00\n",
            "Epoch 35/100\n",
            "51/51 [==============================] - ETA: 0s - loss: 2.1503 - accuracy: 0.1666\n",
            "Epoch 35: accuracy did not improve from 0.16840\n",
            "51/51 [==============================] - 16s 308ms/step - loss: 2.1503 - accuracy: 0.1666 - val_loss: nan - val_accuracy: 0.0000e+00\n",
            "Epoch 36/100\n",
            "51/51 [==============================] - ETA: 0s - loss: 2.1490 - accuracy: 0.1643\n",
            "Epoch 36: accuracy did not improve from 0.16840\n",
            "51/51 [==============================] - 16s 309ms/step - loss: 2.1490 - accuracy: 0.1643 - val_loss: nan - val_accuracy: 0.0000e+00\n",
            "Epoch 37/100\n",
            "51/51 [==============================] - ETA: 0s - loss: 2.1501 - accuracy: 0.1649\n",
            "Epoch 37: accuracy did not improve from 0.16840\n",
            "51/51 [==============================] - 15s 301ms/step - loss: 2.1501 - accuracy: 0.1649 - val_loss: nan - val_accuracy: 0.0000e+00\n",
            "Epoch 38/100\n",
            "51/51 [==============================] - ETA: 0s - loss: 2.1520 - accuracy: 0.1649\n",
            "Epoch 38: accuracy did not improve from 0.16840\n",
            "51/51 [==============================] - 15s 301ms/step - loss: 2.1520 - accuracy: 0.1649 - val_loss: nan - val_accuracy: 0.0000e+00\n",
            "Epoch 39/100\n",
            "51/51 [==============================] - ETA: 0s - loss: 2.1511 - accuracy: 0.1631\n",
            "Epoch 39: accuracy did not improve from 0.16840\n",
            "51/51 [==============================] - 15s 303ms/step - loss: 2.1511 - accuracy: 0.1631 - val_loss: nan - val_accuracy: 0.0000e+00\n",
            "Epoch 40/100\n",
            "51/51 [==============================] - ETA: 0s - loss: 2.1511 - accuracy: 0.1688\n",
            "Epoch 40: accuracy improved from 0.16840 to 0.16880, saving model to bestmodel.hdf5\n",
            "51/51 [==============================] - 15s 300ms/step - loss: 2.1511 - accuracy: 0.1688 - val_loss: nan - val_accuracy: 0.0000e+00\n",
            "Epoch 41/100\n",
            "51/51 [==============================] - ETA: 0s - loss: 2.1537 - accuracy: 0.1647\n",
            "Epoch 41: accuracy did not improve from 0.16880\n",
            "51/51 [==============================] - 15s 299ms/step - loss: 2.1537 - accuracy: 0.1647 - val_loss: nan - val_accuracy: 0.0000e+00\n",
            "Epoch 42/100\n",
            "51/51 [==============================] - ETA: 0s - loss: 2.1522 - accuracy: 0.1672\n",
            "Epoch 42: accuracy did not improve from 0.16880\n",
            "51/51 [==============================] - 15s 300ms/step - loss: 2.1522 - accuracy: 0.1672 - val_loss: nan - val_accuracy: 0.0000e+00\n",
            "Epoch 43/100\n",
            "51/51 [==============================] - ETA: 0s - loss: 2.1518 - accuracy: 0.1613\n",
            "Epoch 43: accuracy did not improve from 0.16880\n",
            "51/51 [==============================] - 15s 302ms/step - loss: 2.1518 - accuracy: 0.1613 - val_loss: nan - val_accuracy: 0.0000e+00\n",
            "Epoch 44/100\n",
            "51/51 [==============================] - ETA: 0s - loss: 2.1540 - accuracy: 0.1625\n",
            "Epoch 44: accuracy did not improve from 0.16880\n",
            "51/51 [==============================] - 15s 303ms/step - loss: 2.1540 - accuracy: 0.1625 - val_loss: nan - val_accuracy: 0.0000e+00\n",
            "Epoch 45/100\n",
            "51/51 [==============================] - ETA: 0s - loss: 2.1510 - accuracy: 0.1601\n",
            "Epoch 45: accuracy did not improve from 0.16880\n",
            "51/51 [==============================] - 15s 297ms/step - loss: 2.1510 - accuracy: 0.1601 - val_loss: nan - val_accuracy: 0.0000e+00\n",
            "Epoch 46/100\n",
            "51/51 [==============================] - ETA: 0s - loss: 2.1509 - accuracy: 0.1637\n",
            "Epoch 46: accuracy did not improve from 0.16880\n",
            "51/51 [==============================] - 15s 303ms/step - loss: 2.1509 - accuracy: 0.1637 - val_loss: nan - val_accuracy: 0.0000e+00\n",
            "Epoch 47/100\n",
            "51/51 [==============================] - ETA: 0s - loss: 2.1514 - accuracy: 0.1631\n",
            "Epoch 47: accuracy did not improve from 0.16880\n",
            "51/51 [==============================] - 16s 310ms/step - loss: 2.1514 - accuracy: 0.1631 - val_loss: nan - val_accuracy: 0.0000e+00\n",
            "Epoch 48/100\n",
            "51/51 [==============================] - ETA: 0s - loss: 2.1510 - accuracy: 0.1641\n",
            "Epoch 48: accuracy did not improve from 0.16880\n",
            "51/51 [==============================] - 15s 297ms/step - loss: 2.1510 - accuracy: 0.1641 - val_loss: nan - val_accuracy: 0.0000e+00\n",
            "Epoch 49/100\n",
            "51/51 [==============================] - ETA: 0s - loss: 2.1509 - accuracy: 0.1635\n",
            "Epoch 49: accuracy did not improve from 0.16880\n",
            "51/51 [==============================] - 15s 298ms/step - loss: 2.1509 - accuracy: 0.1635 - val_loss: nan - val_accuracy: 0.0000e+00\n",
            "Epoch 50/100\n",
            "51/51 [==============================] - ETA: 0s - loss: 2.1502 - accuracy: 0.1603\n",
            "Epoch 50: accuracy did not improve from 0.16880\n",
            "51/51 [==============================] - 15s 301ms/step - loss: 2.1502 - accuracy: 0.1603 - val_loss: nan - val_accuracy: 0.0000e+00\n",
            "Epoch 51/100\n",
            "51/51 [==============================] - ETA: 0s - loss: 2.1507 - accuracy: 0.1664\n",
            "Epoch 51: accuracy did not improve from 0.16880\n",
            "51/51 [==============================] - 16s 307ms/step - loss: 2.1507 - accuracy: 0.1664 - val_loss: nan - val_accuracy: 0.0000e+00\n",
            "Epoch 52/100\n",
            "51/51 [==============================] - ETA: 0s - loss: 2.1519 - accuracy: 0.1627\n",
            "Epoch 52: accuracy did not improve from 0.16880\n",
            "51/51 [==============================] - 15s 302ms/step - loss: 2.1519 - accuracy: 0.1627 - val_loss: nan - val_accuracy: 0.0000e+00\n",
            "Epoch 53/100\n",
            "51/51 [==============================] - ETA: 0s - loss: 2.1503 - accuracy: 0.1637\n",
            "Epoch 53: accuracy did not improve from 0.16880\n",
            "51/51 [==============================] - 16s 312ms/step - loss: 2.1503 - accuracy: 0.1637 - val_loss: nan - val_accuracy: 0.0000e+00\n",
            "Epoch 54/100\n",
            "51/51 [==============================] - ETA: 0s - loss: 2.1511 - accuracy: 0.1633\n",
            "Epoch 54: accuracy did not improve from 0.16880\n",
            "51/51 [==============================] - 16s 311ms/step - loss: 2.1511 - accuracy: 0.1633 - val_loss: nan - val_accuracy: 0.0000e+00\n",
            "Epoch 55/100\n",
            "51/51 [==============================] - ETA: 0s - loss: 2.1501 - accuracy: 0.1678\n",
            "Epoch 55: accuracy did not improve from 0.16880\n",
            "51/51 [==============================] - 15s 300ms/step - loss: 2.1501 - accuracy: 0.1678 - val_loss: nan - val_accuracy: 0.0000e+00\n",
            "Epoch 56/100\n",
            "51/51 [==============================] - ETA: 0s - loss: 2.1501 - accuracy: 0.1635\n",
            "Epoch 56: accuracy did not improve from 0.16880\n",
            "51/51 [==============================] - 16s 306ms/step - loss: 2.1501 - accuracy: 0.1635 - val_loss: nan - val_accuracy: 0.0000e+00\n",
            "Epoch 57/100\n",
            "51/51 [==============================] - ETA: 0s - loss: 2.1500 - accuracy: 0.1668\n",
            "Epoch 57: accuracy did not improve from 0.16880\n",
            "51/51 [==============================] - 15s 302ms/step - loss: 2.1500 - accuracy: 0.1668 - val_loss: nan - val_accuracy: 0.0000e+00\n",
            "Epoch 58/100\n",
            "51/51 [==============================] - ETA: 0s - loss: 2.1524 - accuracy: 0.1674\n",
            "Epoch 58: accuracy did not improve from 0.16880\n",
            "51/51 [==============================] - 15s 304ms/step - loss: 2.1524 - accuracy: 0.1674 - val_loss: nan - val_accuracy: 0.0000e+00\n",
            "Epoch 59/100\n",
            "51/51 [==============================] - ETA: 0s - loss: 2.1531 - accuracy: 0.1647\n",
            "Epoch 59: accuracy did not improve from 0.16880\n",
            "51/51 [==============================] - 15s 302ms/step - loss: 2.1531 - accuracy: 0.1647 - val_loss: nan - val_accuracy: 0.0000e+00\n",
            "Epoch 60/100\n",
            "51/51 [==============================] - ETA: 0s - loss: 2.1509 - accuracy: 0.1668\n",
            "Epoch 60: accuracy did not improve from 0.16880\n",
            "51/51 [==============================] - 16s 305ms/step - loss: 2.1509 - accuracy: 0.1668 - val_loss: nan - val_accuracy: 0.0000e+00\n",
            "Epoch 61/100\n",
            "51/51 [==============================] - ETA: 0s - loss: 2.1511 - accuracy: 0.1627\n",
            "Epoch 61: accuracy did not improve from 0.16880\n",
            "51/51 [==============================] - 15s 300ms/step - loss: 2.1511 - accuracy: 0.1627 - val_loss: nan - val_accuracy: 0.0000e+00\n",
            "Epoch 62/100\n",
            "51/51 [==============================] - ETA: 0s - loss: 2.1511 - accuracy: 0.1676\n",
            "Epoch 62: accuracy did not improve from 0.16880\n",
            "51/51 [==============================] - 15s 302ms/step - loss: 2.1511 - accuracy: 0.1676 - val_loss: nan - val_accuracy: 0.0000e+00\n",
            "Epoch 63/100\n",
            "51/51 [==============================] - ETA: 0s - loss: 2.1652 - accuracy: 0.1657\n",
            "Epoch 63: accuracy did not improve from 0.16880\n",
            "51/51 [==============================] - 16s 310ms/step - loss: 2.1652 - accuracy: 0.1657 - val_loss: nan - val_accuracy: 0.0000e+00\n",
            "Epoch 64/100\n",
            "51/51 [==============================] - ETA: 0s - loss: 2.1563 - accuracy: 0.1582\n",
            "Epoch 64: accuracy did not improve from 0.16880\n",
            "51/51 [==============================] - 15s 300ms/step - loss: 2.1563 - accuracy: 0.1582 - val_loss: nan - val_accuracy: 0.0000e+00\n",
            "Epoch 65/100\n",
            "51/51 [==============================] - ETA: 0s - loss: 2.1559 - accuracy: 0.1590\n",
            "Epoch 65: accuracy did not improve from 0.16880\n",
            "51/51 [==============================] - 15s 298ms/step - loss: 2.1559 - accuracy: 0.1590 - val_loss: nan - val_accuracy: 0.0000e+00\n",
            "Epoch 66/100\n",
            "51/51 [==============================] - ETA: 0s - loss: 2.1583 - accuracy: 0.1596\n",
            "Epoch 66: accuracy did not improve from 0.16880\n",
            "51/51 [==============================] - 15s 303ms/step - loss: 2.1583 - accuracy: 0.1596 - val_loss: nan - val_accuracy: 0.0000e+00\n",
            "Epoch 67/100\n",
            "51/51 [==============================] - ETA: 0s - loss: 2.1539 - accuracy: 0.1623\n",
            "Epoch 67: accuracy did not improve from 0.16880\n",
            "51/51 [==============================] - 15s 303ms/step - loss: 2.1539 - accuracy: 0.1623 - val_loss: nan - val_accuracy: 0.0000e+00\n",
            "Epoch 68/100\n",
            "51/51 [==============================] - ETA: 0s - loss: 2.1550 - accuracy: 0.1637\n",
            "Epoch 68: accuracy did not improve from 0.16880\n",
            "51/51 [==============================] - 15s 301ms/step - loss: 2.1550 - accuracy: 0.1637 - val_loss: nan - val_accuracy: 0.0000e+00\n",
            "Epoch 69/100\n",
            "51/51 [==============================] - ETA: 0s - loss: 2.1530 - accuracy: 0.1635\n",
            "Epoch 69: accuracy did not improve from 0.16880\n",
            "51/51 [==============================] - 15s 301ms/step - loss: 2.1530 - accuracy: 0.1635 - val_loss: nan - val_accuracy: 0.0000e+00\n",
            "Epoch 70/100\n",
            "51/51 [==============================] - ETA: 0s - loss: 2.1542 - accuracy: 0.1586\n",
            "Epoch 70: accuracy did not improve from 0.16880\n",
            "51/51 [==============================] - 15s 302ms/step - loss: 2.1542 - accuracy: 0.1586 - val_loss: nan - val_accuracy: 0.0000e+00\n",
            "Epoch 71/100\n",
            "51/51 [==============================] - ETA: 0s - loss: 2.1560 - accuracy: 0.1609\n",
            "Epoch 71: accuracy did not improve from 0.16880\n",
            "51/51 [==============================] - 16s 317ms/step - loss: 2.1560 - accuracy: 0.1609 - val_loss: nan - val_accuracy: 0.0000e+00\n",
            "Epoch 72/100\n",
            "51/51 [==============================] - ETA: 0s - loss: 2.1547 - accuracy: 0.1621\n",
            "Epoch 72: accuracy did not improve from 0.16880\n",
            "51/51 [==============================] - 15s 303ms/step - loss: 2.1547 - accuracy: 0.1621 - val_loss: nan - val_accuracy: 0.0000e+00\n",
            "Epoch 73/100\n",
            "51/51 [==============================] - ETA: 0s - loss: 2.1535 - accuracy: 0.1623\n",
            "Epoch 73: accuracy did not improve from 0.16880\n",
            "51/51 [==============================] - 15s 303ms/step - loss: 2.1535 - accuracy: 0.1623 - val_loss: nan - val_accuracy: 0.0000e+00\n",
            "Epoch 74/100\n",
            "51/51 [==============================] - ETA: 0s - loss: 2.1541 - accuracy: 0.1625\n",
            "Epoch 74: accuracy did not improve from 0.16880\n",
            "51/51 [==============================] - 15s 303ms/step - loss: 2.1541 - accuracy: 0.1625 - val_loss: nan - val_accuracy: 0.0000e+00\n",
            "Epoch 75/100\n",
            "51/51 [==============================] - ETA: 0s - loss: 2.1550 - accuracy: 0.1635\n",
            "Epoch 75: accuracy did not improve from 0.16880\n",
            "51/51 [==============================] - 15s 300ms/step - loss: 2.1550 - accuracy: 0.1635 - val_loss: nan - val_accuracy: 0.0000e+00\n",
            "Epoch 76/100\n",
            "51/51 [==============================] - ETA: 0s - loss: 2.1538 - accuracy: 0.1627\n",
            "Epoch 76: accuracy did not improve from 0.16880\n",
            "51/51 [==============================] - 16s 313ms/step - loss: 2.1538 - accuracy: 0.1627 - val_loss: nan - val_accuracy: 0.0000e+00\n",
            "Epoch 77/100\n",
            "51/51 [==============================] - ETA: 0s - loss: 2.1524 - accuracy: 0.1623\n",
            "Epoch 77: accuracy did not improve from 0.16880\n",
            "51/51 [==============================] - 15s 301ms/step - loss: 2.1524 - accuracy: 0.1623 - val_loss: nan - val_accuracy: 0.0000e+00\n",
            "Epoch 78/100\n",
            "51/51 [==============================] - ETA: 0s - loss: 2.1545 - accuracy: 0.1641\n",
            "Epoch 78: accuracy did not improve from 0.16880\n",
            "51/51 [==============================] - 15s 301ms/step - loss: 2.1545 - accuracy: 0.1641 - val_loss: nan - val_accuracy: 0.0000e+00\n",
            "Epoch 79/100\n",
            "51/51 [==============================] - ETA: 0s - loss: 2.1552 - accuracy: 0.1625\n",
            "Epoch 79: accuracy did not improve from 0.16880\n",
            "51/51 [==============================] - 15s 299ms/step - loss: 2.1552 - accuracy: 0.1625 - val_loss: nan - val_accuracy: 0.0000e+00\n",
            "Epoch 80/100\n",
            "51/51 [==============================] - ETA: 0s - loss: 2.1549 - accuracy: 0.1603\n",
            "Epoch 80: accuracy did not improve from 0.16880\n",
            "51/51 [==============================] - 15s 301ms/step - loss: 2.1549 - accuracy: 0.1603 - val_loss: nan - val_accuracy: 0.0000e+00\n",
            "Epoch 81/100\n",
            "51/51 [==============================] - ETA: 0s - loss: 2.1547 - accuracy: 0.1637\n",
            "Epoch 81: accuracy did not improve from 0.16880\n",
            "51/51 [==============================] - 15s 301ms/step - loss: 2.1547 - accuracy: 0.1637 - val_loss: nan - val_accuracy: 0.0000e+00\n",
            "Epoch 82/100\n",
            "51/51 [==============================] - ETA: 0s - loss: 2.1537 - accuracy: 0.1629\n",
            "Epoch 82: accuracy did not improve from 0.16880\n",
            "51/51 [==============================] - 15s 302ms/step - loss: 2.1537 - accuracy: 0.1629 - val_loss: nan - val_accuracy: 0.0000e+00\n",
            "Epoch 83/100\n",
            "51/51 [==============================] - ETA: 0s - loss: 2.1548 - accuracy: 0.1633\n",
            "Epoch 83: accuracy did not improve from 0.16880\n",
            "51/51 [==============================] - 15s 298ms/step - loss: 2.1548 - accuracy: 0.1633 - val_loss: nan - val_accuracy: 0.0000e+00\n",
            "Epoch 84/100\n",
            "51/51 [==============================] - ETA: 0s - loss: 2.1543 - accuracy: 0.1662\n",
            "Epoch 84: accuracy did not improve from 0.16880\n",
            "51/51 [==============================] - 15s 300ms/step - loss: 2.1543 - accuracy: 0.1662 - val_loss: nan - val_accuracy: 0.0000e+00\n",
            "Epoch 85/100\n",
            "51/51 [==============================] - ETA: 0s - loss: 2.1536 - accuracy: 0.1594\n",
            "Epoch 85: accuracy did not improve from 0.16880\n",
            "51/51 [==============================] - 15s 296ms/step - loss: 2.1536 - accuracy: 0.1594 - val_loss: nan - val_accuracy: 0.0000e+00\n",
            "Epoch 86/100\n",
            "51/51 [==============================] - ETA: 0s - loss: 2.1523 - accuracy: 0.1603\n",
            "Epoch 86: accuracy did not improve from 0.16880\n",
            "51/51 [==============================] - 15s 302ms/step - loss: 2.1523 - accuracy: 0.1603 - val_loss: nan - val_accuracy: 0.0000e+00\n",
            "Epoch 87/100\n",
            "51/51 [==============================] - ETA: 0s - loss: 2.1535 - accuracy: 0.1631\n",
            "Epoch 87: accuracy did not improve from 0.16880\n",
            "51/51 [==============================] - 15s 304ms/step - loss: 2.1535 - accuracy: 0.1631 - val_loss: nan - val_accuracy: 0.0000e+00\n",
            "Epoch 88/100\n",
            "51/51 [==============================] - ETA: 0s - loss: 2.1538 - accuracy: 0.1601\n",
            "Epoch 88: accuracy did not improve from 0.16880\n",
            "51/51 [==============================] - 15s 300ms/step - loss: 2.1538 - accuracy: 0.1601 - val_loss: nan - val_accuracy: 0.0000e+00\n",
            "Epoch 89/100\n",
            "51/51 [==============================] - ETA: 0s - loss: 2.1536 - accuracy: 0.1594\n",
            "Epoch 89: accuracy did not improve from 0.16880\n",
            "51/51 [==============================] - 15s 302ms/step - loss: 2.1536 - accuracy: 0.1594 - val_loss: nan - val_accuracy: 0.0000e+00\n",
            "Epoch 90/100\n",
            "51/51 [==============================] - ETA: 0s - loss: 2.1546 - accuracy: 0.1629\n",
            "Epoch 90: accuracy did not improve from 0.16880\n",
            "51/51 [==============================] - 15s 300ms/step - loss: 2.1546 - accuracy: 0.1629 - val_loss: nan - val_accuracy: 0.0000e+00\n",
            "Epoch 91/100\n",
            "51/51 [==============================] - ETA: 0s - loss: 2.1549 - accuracy: 0.1647\n",
            "Epoch 91: accuracy did not improve from 0.16880\n",
            "51/51 [==============================] - 15s 302ms/step - loss: 2.1549 - accuracy: 0.1647 - val_loss: nan - val_accuracy: 0.0000e+00\n",
            "Epoch 92/100\n",
            "51/51 [==============================] - ETA: 0s - loss: 2.1546 - accuracy: 0.1619\n",
            "Epoch 92: accuracy did not improve from 0.16880\n",
            "51/51 [==============================] - 15s 302ms/step - loss: 2.1546 - accuracy: 0.1619 - val_loss: nan - val_accuracy: 0.0000e+00\n",
            "Epoch 93/100\n",
            "51/51 [==============================] - ETA: 0s - loss: 2.1524 - accuracy: 0.1649\n",
            "Epoch 93: accuracy did not improve from 0.16880\n",
            "51/51 [==============================] - 15s 300ms/step - loss: 2.1524 - accuracy: 0.1649 - val_loss: nan - val_accuracy: 0.0000e+00\n",
            "Epoch 94/100\n",
            "51/51 [==============================] - ETA: 0s - loss: 2.1518 - accuracy: 0.1655\n",
            "Epoch 94: accuracy did not improve from 0.16880\n",
            "51/51 [==============================] - 15s 299ms/step - loss: 2.1518 - accuracy: 0.1655 - val_loss: nan - val_accuracy: 0.0000e+00\n",
            "Epoch 95/100\n",
            "51/51 [==============================] - ETA: 0s - loss: 2.1526 - accuracy: 0.1594\n",
            "Epoch 95: accuracy did not improve from 0.16880\n",
            "51/51 [==============================] - 15s 300ms/step - loss: 2.1526 - accuracy: 0.1594 - val_loss: nan - val_accuracy: 0.0000e+00\n",
            "Epoch 96/100\n",
            "51/51 [==============================] - ETA: 0s - loss: 2.1529 - accuracy: 0.1619\n",
            "Epoch 96: accuracy did not improve from 0.16880\n",
            "51/51 [==============================] - 15s 300ms/step - loss: 2.1529 - accuracy: 0.1619 - val_loss: nan - val_accuracy: 0.0000e+00\n",
            "Epoch 97/100\n",
            "51/51 [==============================] - ETA: 0s - loss: 2.1524 - accuracy: 0.1617\n",
            "Epoch 97: accuracy did not improve from 0.16880\n",
            "51/51 [==============================] - 15s 302ms/step - loss: 2.1524 - accuracy: 0.1617 - val_loss: nan - val_accuracy: 0.0000e+00\n",
            "Epoch 98/100\n",
            "51/51 [==============================] - ETA: 0s - loss: 2.1494 - accuracy: 0.1655\n",
            "Epoch 98: accuracy did not improve from 0.16880\n",
            "51/51 [==============================] - 15s 303ms/step - loss: 2.1494 - accuracy: 0.1655 - val_loss: nan - val_accuracy: 0.0000e+00\n",
            "Epoch 99/100\n",
            "51/51 [==============================] - ETA: 0s - loss: 2.1473 - accuracy: 0.1639\n",
            "Epoch 99: accuracy did not improve from 0.16880\n",
            "51/51 [==============================] - 16s 311ms/step - loss: 2.1473 - accuracy: 0.1639 - val_loss: nan - val_accuracy: 0.0000e+00\n",
            "Epoch 100/100\n",
            "51/51 [==============================] - ETA: 0s - loss: 2.1487 - accuracy: 0.1598\n",
            "Epoch 100: accuracy did not improve from 0.16880\n",
            "51/51 [==============================] - 15s 303ms/step - loss: 2.1487 - accuracy: 0.1598 - val_loss: nan - val_accuracy: 0.0000e+00\n"
          ]
        }
      ]
    },
    {
      "cell_type": "code",
      "source": [
        "model.load_weights('bestmodel.hdf5')"
      ],
      "metadata": {
        "id": "a9jwRvQXclxq"
      },
      "execution_count": 17,
      "outputs": []
    },
    {
      "cell_type": "code",
      "source": [
        "#Evaluation\n",
        "\n",
        "results = model.evaluate(test_x, test_y, batch_size = 100)\n",
        "print(f\"{model.metrics_names}: {results}\")"
      ],
      "metadata": {
        "colab": {
          "base_uri": "https://localhost:8080/"
        },
        "id": "v64kBFpscz4A",
        "outputId": "170c9d5c-a0b4-4b84-c6c3-46de348f02eb"
      },
      "execution_count": 18,
      "outputs": [
        {
          "output_type": "stream",
          "name": "stdout",
          "text": [
            "29/29 [==============================] - 1s 33ms/step - loss: nan - accuracy: 0.1113\n",
            "['loss', 'accuracy']: [nan, 0.11130374670028687]\n"
          ]
        }
      ]
    },
    {
      "cell_type": "code",
      "source": [
        ""
      ],
      "metadata": {
        "id": "kkhiVsVFuf42"
      },
      "execution_count": null,
      "outputs": []
    }
  ]
}