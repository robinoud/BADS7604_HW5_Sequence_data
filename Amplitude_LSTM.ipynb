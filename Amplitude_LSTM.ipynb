{
  "nbformat": 4,
  "nbformat_minor": 0,
  "metadata": {
    "colab": {
      "name": "4_LSTM.ipynb",
      "provenance": [],
      "collapsed_sections": []
    },
    "kernelspec": {
      "name": "python3",
      "display_name": "Python 3"
    },
    "language_info": {
      "name": "python"
    },
    "accelerator": "GPU"
  },
  "cells": [
    {
      "cell_type": "code",
      "execution_count": 1,
      "metadata": {
        "colab": {
          "base_uri": "https://localhost:8080/"
        },
        "id": "jkPPYyz6Vxk2",
        "outputId": "bce3389a-da58-4e9c-95f3-04fa4cf940ad"
      },
      "outputs": [
        {
          "output_type": "stream",
          "name": "stdout",
          "text": [
            "Mounted at /content/mydrive/\n"
          ]
        }
      ],
      "source": [
        "from google.colab import drive\n",
        "\n",
        "drive.mount('/content/mydrive/')"
      ]
    },
    {
      "cell_type": "code",
      "source": [
        "import numpy as np\n",
        "import pandas as pd\n",
        "import tensorflow as tf\n",
        "from sklearn.preprocessing import StandardScaler\n",
        "print(tf.__version__)"
      ],
      "metadata": {
        "colab": {
          "base_uri": "https://localhost:8080/"
        },
        "id": "nh6AHChJV9Eh",
        "outputId": "0672dd18-cd03-4110-e1f7-9505d2133124"
      },
      "execution_count": 2,
      "outputs": [
        {
          "output_type": "stream",
          "name": "stdout",
          "text": [
            "2.8.0\n"
          ]
        }
      ]
    },
    {
      "cell_type": "code",
      "source": [
        "df_train = pd.read_csv('/content/mydrive/MyDrive/Colab Notebooks/Deep Learning/Homework_05/Code/Dataset/train.csv', header=None)\n",
        "df_test = pd.read_csv('/content/mydrive/MyDrive/Colab Notebooks/Deep Learning/Homework_05/Code/Dataset/test.csv', header=None)"
      ],
      "metadata": {
        "id": "XUIE8ua_WL3-"
      },
      "execution_count": 3,
      "outputs": []
    },
    {
      "cell_type": "code",
      "source": [
        "df_train_x = df_train.drop([500], axis=1)\n",
        "df_train_y = df_train[500]\n",
        "df_test_x = df_test.drop([500], axis=1)\n",
        "df_test_y = df_test[500]"
      ],
      "metadata": {
        "id": "XFn6mNaNW_rD"
      },
      "execution_count": 4,
      "outputs": []
    },
    {
      "cell_type": "code",
      "source": [
        "train_x = df_train_x.to_numpy()\n",
        "train_y = df_train_y.to_numpy()\n",
        "\n",
        "test_x = df_test_x.to_numpy()\n",
        "test_y = df_test_y.to_numpy()"
      ],
      "metadata": {
        "id": "cs5lhgY2Yp6V"
      },
      "execution_count": 5,
      "outputs": []
    },
    {
      "cell_type": "code",
      "source": [
        "scaler = StandardScaler().fit(train_x)\n",
        "train_x = scaler.transform(train_x)"
      ],
      "metadata": {
        "id": "5lor6i2Tapes"
      },
      "execution_count": 6,
      "outputs": []
    },
    {
      "cell_type": "code",
      "source": [
        "scaler = StandardScaler().fit(test_x)\n",
        "test_x = scaler.transform(test_x)"
      ],
      "metadata": {
        "id": "NuOS3C27azRS"
      },
      "execution_count": 7,
      "outputs": []
    },
    {
      "cell_type": "code",
      "source": [
        "length = 500\n",
        "\n",
        "my_gru = tf.keras.models.Sequential()\n",
        "\n",
        "my_gru.add(tf.keras.layers.LSTM(units = length, input_shape = (length,1)))\n",
        "my_gru.add(tf.keras.layers.Dense(1000))\n",
        "#my_rnn.add(tf.keras.layers.Dense(100))\n",
        "\n",
        "my_gru.summary()"
      ],
      "metadata": {
        "id": "607bea9ubKzd",
        "colab": {
          "base_uri": "https://localhost:8080/"
        },
        "outputId": "abb73367-e1cd-49aa-b938-a24cde88c023"
      },
      "execution_count": 8,
      "outputs": [
        {
          "output_type": "stream",
          "name": "stdout",
          "text": [
            "Model: \"sequential\"\n",
            "_________________________________________________________________\n",
            " Layer (type)                Output Shape              Param #   \n",
            "=================================================================\n",
            " lstm (LSTM)                 (None, 500)               1004000   \n",
            "                                                                 \n",
            " dense (Dense)               (None, 1000)              501000    \n",
            "                                                                 \n",
            "=================================================================\n",
            "Total params: 1,505,000\n",
            "Trainable params: 1,505,000\n",
            "Non-trainable params: 0\n",
            "_________________________________________________________________\n"
          ]
        }
      ]
    },
    {
      "cell_type": "code",
      "source": [
        "x = my_gru.output\n",
        "x = tf.keras.layers.Dense(512, activation = 'relu')(x)\n",
        "x = tf.keras.layers.Dense(256, activation = 'relu')(x)\n",
        "x = tf.keras.layers.Dense(128, activation = 'relu')(x)\n",
        "x = tf.keras.layers.Dense(64, activation = 'relu')(x)\n",
        "x = tf.keras.layers.Dense(32, activation = 'relu')(x)\n",
        "x = tf.keras.layers.Dropout(0.5)(x)\n",
        "new_outputs = tf.keras.layers.Dense(12)(x)\n",
        "new_outputs = tf.keras.activations.softmax(new_outputs)"
      ],
      "metadata": {
        "id": "xB2X4HQ3cUjn"
      },
      "execution_count": 9,
      "outputs": []
    },
    {
      "cell_type": "code",
      "source": [
        "#Constrauct the main model\n",
        "model = tf.keras.models.Model(inputs = my_gru.inputs, outputs = new_outputs)\n",
        "model.compile(loss = \"sparse_categorical_crossentropy\", optimizer =\"adam\", metrics = [\"accuracy\"])\n",
        "model.summary()"
      ],
      "metadata": {
        "colab": {
          "base_uri": "https://localhost:8080/"
        },
        "id": "PNVrHgngcWf3",
        "outputId": "09cd0794-4dba-4879-ed37-87b4386cfad4"
      },
      "execution_count": 10,
      "outputs": [
        {
          "output_type": "stream",
          "name": "stdout",
          "text": [
            "Model: \"model\"\n",
            "_________________________________________________________________\n",
            " Layer (type)                Output Shape              Param #   \n",
            "=================================================================\n",
            " lstm_input (InputLayer)     [(None, 500, 1)]          0         \n",
            "                                                                 \n",
            " lstm (LSTM)                 (None, 500)               1004000   \n",
            "                                                                 \n",
            " dense (Dense)               (None, 1000)              501000    \n",
            "                                                                 \n",
            " dense_1 (Dense)             (None, 512)               512512    \n",
            "                                                                 \n",
            " dense_2 (Dense)             (None, 256)               131328    \n",
            "                                                                 \n",
            " dense_3 (Dense)             (None, 128)               32896     \n",
            "                                                                 \n",
            " dense_4 (Dense)             (None, 64)                8256      \n",
            "                                                                 \n",
            " dense_5 (Dense)             (None, 32)                2080      \n",
            "                                                                 \n",
            " dropout (Dropout)           (None, 32)                0         \n",
            "                                                                 \n",
            " dense_6 (Dense)             (None, 12)                396       \n",
            "                                                                 \n",
            " tf.nn.softmax (TFOpLambda)  (None, 12)                0         \n",
            "                                                                 \n",
            "=================================================================\n",
            "Total params: 2,192,468\n",
            "Trainable params: 2,192,468\n",
            "Non-trainable params: 0\n",
            "_________________________________________________________________\n"
          ]
        }
      ]
    },
    {
      "cell_type": "code",
      "source": [
        "tf.keras.utils.plot_model(model, to_file = \"cnn_functional.png\", show_shapes = True, show_dtype = True, show_layer_names = False, dpi = 96)"
      ],
      "metadata": {
        "colab": {
          "base_uri": "https://localhost:8080/",
          "height": 1000
        },
        "id": "YLGHUNuJccRY",
        "outputId": "8edf65cc-987b-4844-cfa8-a8c63a304d85"
      },
      "execution_count": 11,
      "outputs": [
        {
          "output_type": "execute_result",
          "data": {
            "text/plain": [
              "<IPython.core.display.Image object>"
            ],
            "image/png": "[encoded data removed]"
          },
          "metadata": {},
          "execution_count": 11
        }
      ]
    },
    {
      "cell_type": "code",
      "source": [
        "#adam = tf.keras.optimizers.Adam(learning_rate = 0.001)\n",
        "\n",
        "#my_rnn.compile(loss = \"sparse_categorical_crossentropy\", optimizer = adam, metrics = [\"accuracy\"])\n",
        "\n",
        "checkpoint_filepath = \"bestmodel.hdf5\"\n",
        "\n",
        "model_checkpoint_callback = tf.keras.callbacks.ModelCheckpoint(filepath = checkpoint_filepath, save_weight_only = False, monitor = \"accuracy\", mode=\"max\", save_best_only = True,verbose=2)"
      ],
      "metadata": {
        "id": "DFC7hPyBcX9o"
      },
      "execution_count": 12,
      "outputs": []
    },
    {
      "cell_type": "code",
      "source": [
        "hist = model.fit(train_x, train_y, batch_size = 100, epochs = 100, callbacks = [model_checkpoint_callback],validation_split = 0.2,verbose=1)"
      ],
      "metadata": {
        "colab": {
          "base_uri": "https://localhost:8080/"
        },
        "id": "pepupU6CcjQp",
        "outputId": "90eea70c-2df5-444f-d605-cd57ea8bc131"
      },
      "execution_count": 13,
      "outputs": [
        {
          "output_type": "stream",
          "name": "stdout",
          "text": [
            "Epoch 1/100\n",
            "51/51 [==============================] - ETA: 0s - loss: 2.4064 - accuracy: 0.1234\n",
            "Epoch 1: accuracy improved from -inf to 0.12340, saving model to bestmodel.hdf5\n",
            "51/51 [==============================] - 12s 128ms/step - loss: 2.4064 - accuracy: 0.1234 - val_loss: nan - val_accuracy: 0.0000e+00\n",
            "Epoch 2/100\n",
            "51/51 [==============================] - ETA: 0s - loss: 2.3038 - accuracy: 0.1519\n",
            "Epoch 2: accuracy improved from 0.12340 to 0.15190, saving model to bestmodel.hdf5\n",
            "51/51 [==============================] - 6s 119ms/step - loss: 2.3038 - accuracy: 0.1519 - val_loss: nan - val_accuracy: 0.0000e+00\n",
            "Epoch 3/100\n",
            "51/51 [==============================] - ETA: 0s - loss: 2.2252 - accuracy: 0.1800\n",
            "Epoch 3: accuracy improved from 0.15190 to 0.18000, saving model to bestmodel.hdf5\n",
            "51/51 [==============================] - 6s 118ms/step - loss: 2.2252 - accuracy: 0.1800 - val_loss: nan - val_accuracy: 0.0000e+00\n",
            "Epoch 4/100\n",
            "51/51 [==============================] - ETA: 0s - loss: 2.2491 - accuracy: 0.1835\n",
            "Epoch 4: accuracy improved from 0.18000 to 0.18353, saving model to bestmodel.hdf5\n",
            "51/51 [==============================] - 6s 118ms/step - loss: 2.2491 - accuracy: 0.1835 - val_loss: nan - val_accuracy: 0.0000e+00\n",
            "Epoch 5/100\n",
            "51/51 [==============================] - ETA: 0s - loss: 2.1853 - accuracy: 0.1749\n",
            "Epoch 5: accuracy did not improve from 0.18353\n",
            "51/51 [==============================] - 6s 116ms/step - loss: 2.1853 - accuracy: 0.1749 - val_loss: nan - val_accuracy: 0.0000e+00\n",
            "Epoch 6/100\n",
            "51/51 [==============================] - ETA: 0s - loss: 2.1697 - accuracy: 0.1835\n",
            "Epoch 6: accuracy did not improve from 0.18353\n",
            "51/51 [==============================] - 6s 116ms/step - loss: 2.1697 - accuracy: 0.1835 - val_loss: nan - val_accuracy: 0.0000e+00\n",
            "Epoch 7/100\n",
            "51/51 [==============================] - ETA: 0s - loss: 2.1445 - accuracy: 0.1961\n",
            "Epoch 7: accuracy improved from 0.18353 to 0.19611, saving model to bestmodel.hdf5\n",
            "51/51 [==============================] - 6s 119ms/step - loss: 2.1445 - accuracy: 0.1961 - val_loss: nan - val_accuracy: 0.0000e+00\n",
            "Epoch 8/100\n",
            "51/51 [==============================] - ETA: 0s - loss: 2.0982 - accuracy: 0.2126\n",
            "Epoch 8: accuracy improved from 0.19611 to 0.21262, saving model to bestmodel.hdf5\n",
            "51/51 [==============================] - 6s 123ms/step - loss: 2.0982 - accuracy: 0.2126 - val_loss: nan - val_accuracy: 0.0000e+00\n",
            "Epoch 9/100\n",
            "51/51 [==============================] - ETA: 0s - loss: 2.0778 - accuracy: 0.2234\n",
            "Epoch 9: accuracy improved from 0.21262 to 0.22342, saving model to bestmodel.hdf5\n",
            "51/51 [==============================] - 6s 119ms/step - loss: 2.0778 - accuracy: 0.2234 - val_loss: nan - val_accuracy: 0.0000e+00\n",
            "Epoch 10/100\n",
            "51/51 [==============================] - ETA: 0s - loss: 2.0561 - accuracy: 0.2393\n",
            "Epoch 10: accuracy improved from 0.22342 to 0.23934, saving model to bestmodel.hdf5\n",
            "51/51 [==============================] - 6s 119ms/step - loss: 2.0561 - accuracy: 0.2393 - val_loss: nan - val_accuracy: 0.0000e+00\n",
            "Epoch 11/100\n",
            "51/51 [==============================] - ETA: 0s - loss: 2.0964 - accuracy: 0.2209\n",
            "Epoch 11: accuracy did not improve from 0.23934\n",
            "51/51 [==============================] - 6s 116ms/step - loss: 2.0964 - accuracy: 0.2209 - val_loss: nan - val_accuracy: 0.0000e+00\n",
            "Epoch 12/100\n",
            "51/51 [==============================] - ETA: 0s - loss: 2.0387 - accuracy: 0.2372\n",
            "Epoch 12: accuracy did not improve from 0.23934\n",
            "51/51 [==============================] - 6s 117ms/step - loss: 2.0387 - accuracy: 0.2372 - val_loss: nan - val_accuracy: 0.0000e+00\n",
            "Epoch 13/100\n",
            "51/51 [==============================] - ETA: 0s - loss: 1.9967 - accuracy: 0.2590\n",
            "Epoch 13: accuracy improved from 0.23934 to 0.25899, saving model to bestmodel.hdf5\n",
            "51/51 [==============================] - 6s 118ms/step - loss: 1.9967 - accuracy: 0.2590 - val_loss: nan - val_accuracy: 0.0000e+00\n",
            "Epoch 14/100\n",
            "51/51 [==============================] - ETA: 0s - loss: 2.0538 - accuracy: 0.2443\n",
            "Epoch 14: accuracy did not improve from 0.25899\n",
            "51/51 [==============================] - 6s 116ms/step - loss: 2.0538 - accuracy: 0.2443 - val_loss: nan - val_accuracy: 0.0000e+00\n",
            "Epoch 15/100\n",
            "51/51 [==============================] - ETA: 0s - loss: 2.0843 - accuracy: 0.2305\n",
            "Epoch 15: accuracy did not improve from 0.25899\n",
            "51/51 [==============================] - 6s 116ms/step - loss: 2.0843 - accuracy: 0.2305 - val_loss: nan - val_accuracy: 0.0000e+00\n",
            "Epoch 16/100\n",
            "51/51 [==============================] - ETA: 0s - loss: 2.2250 - accuracy: 0.1340\n",
            "Epoch 16: accuracy did not improve from 0.25899\n",
            "51/51 [==============================] - 6s 116ms/step - loss: 2.2250 - accuracy: 0.1340 - val_loss: nan - val_accuracy: 0.0000e+00\n",
            "Epoch 17/100\n",
            "51/51 [==============================] - ETA: 0s - loss: 2.2302 - accuracy: 0.1440\n",
            "Epoch 17: accuracy did not improve from 0.25899\n",
            "51/51 [==============================] - 6s 117ms/step - loss: 2.2302 - accuracy: 0.1440 - val_loss: nan - val_accuracy: 0.0000e+00\n",
            "Epoch 18/100\n",
            "51/51 [==============================] - ETA: 0s - loss: 2.1963 - accuracy: 0.1427\n",
            "Epoch 18: accuracy did not improve from 0.25899\n",
            "51/51 [==============================] - 6s 116ms/step - loss: 2.1963 - accuracy: 0.1427 - val_loss: nan - val_accuracy: 0.0000e+00\n",
            "Epoch 19/100\n",
            "51/51 [==============================] - ETA: 0s - loss: 2.1805 - accuracy: 0.1486\n",
            "Epoch 19: accuracy did not improve from 0.25899\n",
            "51/51 [==============================] - 6s 116ms/step - loss: 2.1805 - accuracy: 0.1486 - val_loss: nan - val_accuracy: 0.0000e+00\n",
            "Epoch 20/100\n",
            "51/51 [==============================] - ETA: 0s - loss: 2.1753 - accuracy: 0.1482\n",
            "Epoch 20: accuracy did not improve from 0.25899\n",
            "51/51 [==============================] - 6s 116ms/step - loss: 2.1753 - accuracy: 0.1482 - val_loss: nan - val_accuracy: 0.0000e+00\n",
            "Epoch 21/100\n",
            "51/51 [==============================] - ETA: 0s - loss: 2.1684 - accuracy: 0.1545\n",
            "Epoch 21: accuracy did not improve from 0.25899\n",
            "51/51 [==============================] - 6s 119ms/step - loss: 2.1684 - accuracy: 0.1545 - val_loss: nan - val_accuracy: 0.0000e+00\n",
            "Epoch 22/100\n",
            "51/51 [==============================] - ETA: 0s - loss: 2.1674 - accuracy: 0.1527\n",
            "Epoch 22: accuracy did not improve from 0.25899\n",
            "51/51 [==============================] - 6s 116ms/step - loss: 2.1674 - accuracy: 0.1527 - val_loss: nan - val_accuracy: 0.0000e+00\n",
            "Epoch 23/100\n",
            "51/51 [==============================] - ETA: 0s - loss: 2.1622 - accuracy: 0.1535\n",
            "Epoch 23: accuracy did not improve from 0.25899\n",
            "51/51 [==============================] - 6s 117ms/step - loss: 2.1622 - accuracy: 0.1535 - val_loss: nan - val_accuracy: 0.0000e+00\n",
            "Epoch 24/100\n",
            "51/51 [==============================] - ETA: 0s - loss: nan - accuracy: 0.0886\n",
            "Epoch 24: accuracy did not improve from 0.25899\n",
            "51/51 [==============================] - 6s 116ms/step - loss: nan - accuracy: 0.0886 - val_loss: nan - val_accuracy: 0.0000e+00\n",
            "Epoch 25/100\n",
            "51/51 [==============================] - ETA: 0s - loss: nan - accuracy: 0.0000e+00\n",
            "Epoch 25: accuracy did not improve from 0.25899\n",
            "51/51 [==============================] - 6s 116ms/step - loss: nan - accuracy: 0.0000e+00 - val_loss: nan - val_accuracy: 0.0000e+00\n",
            "Epoch 26/100\n",
            "51/51 [==============================] - ETA: 0s - loss: nan - accuracy: 0.0000e+00\n",
            "Epoch 26: accuracy did not improve from 0.25899\n",
            "51/51 [==============================] - 6s 116ms/step - loss: nan - accuracy: 0.0000e+00 - val_loss: nan - val_accuracy: 0.0000e+00\n",
            "Epoch 27/100\n",
            "51/51 [==============================] - ETA: 0s - loss: nan - accuracy: 0.0000e+00\n",
            "Epoch 27: accuracy did not improve from 0.25899\n",
            "51/51 [==============================] - 6s 116ms/step - loss: nan - accuracy: 0.0000e+00 - val_loss: nan - val_accuracy: 0.0000e+00\n",
            "Epoch 28/100\n",
            "51/51 [==============================] - ETA: 0s - loss: nan - accuracy: 0.0000e+00\n",
            "Epoch 28: accuracy did not improve from 0.25899\n",
            "51/51 [==============================] - 6s 117ms/step - loss: nan - accuracy: 0.0000e+00 - val_loss: nan - val_accuracy: 0.0000e+00\n",
            "Epoch 29/100\n",
            "51/51 [==============================] - ETA: 0s - loss: nan - accuracy: 0.0000e+00\n",
            "Epoch 29: accuracy did not improve from 0.25899\n",
            "51/51 [==============================] - 6s 117ms/step - loss: nan - accuracy: 0.0000e+00 - val_loss: nan - val_accuracy: 0.0000e+00\n",
            "Epoch 30/100\n",
            "51/51 [==============================] - ETA: 0s - loss: nan - accuracy: 0.0000e+00\n",
            "Epoch 30: accuracy did not improve from 0.25899\n",
            "51/51 [==============================] - 6s 116ms/step - loss: nan - accuracy: 0.0000e+00 - val_loss: nan - val_accuracy: 0.0000e+00\n",
            "Epoch 31/100\n",
            "51/51 [==============================] - ETA: 0s - loss: nan - accuracy: 0.0000e+00\n",
            "Epoch 31: accuracy did not improve from 0.25899\n",
            "51/51 [==============================] - 6s 116ms/step - loss: nan - accuracy: 0.0000e+00 - val_loss: nan - val_accuracy: 0.0000e+00\n",
            "Epoch 32/100\n",
            "51/51 [==============================] - ETA: 0s - loss: nan - accuracy: 0.0000e+00\n",
            "Epoch 32: accuracy did not improve from 0.25899\n",
            "51/51 [==============================] - 6s 117ms/step - loss: nan - accuracy: 0.0000e+00 - val_loss: nan - val_accuracy: 0.0000e+00\n",
            "Epoch 33/100\n",
            "51/51 [==============================] - ETA: 0s - loss: nan - accuracy: 0.0000e+00\n",
            "Epoch 33: accuracy did not improve from 0.25899\n",
            "51/51 [==============================] - 6s 116ms/step - loss: nan - accuracy: 0.0000e+00 - val_loss: nan - val_accuracy: 0.0000e+00\n",
            "Epoch 34/100\n",
            "51/51 [==============================] - ETA: 0s - loss: nan - accuracy: 0.0000e+00\n",
            "Epoch 34: accuracy did not improve from 0.25899\n",
            "51/51 [==============================] - 6s 120ms/step - loss: nan - accuracy: 0.0000e+00 - val_loss: nan - val_accuracy: 0.0000e+00\n",
            "Epoch 35/100\n",
            "51/51 [==============================] - ETA: 0s - loss: nan - accuracy: 0.0000e+00\n",
            "Epoch 35: accuracy did not improve from 0.25899\n",
            "51/51 [==============================] - 6s 124ms/step - loss: nan - accuracy: 0.0000e+00 - val_loss: nan - val_accuracy: 0.0000e+00\n",
            "Epoch 36/100\n",
            "51/51 [==============================] - ETA: 0s - loss: nan - accuracy: 0.0000e+00\n",
            "Epoch 36: accuracy did not improve from 0.25899\n",
            "51/51 [==============================] - 6s 125ms/step - loss: nan - accuracy: 0.0000e+00 - val_loss: nan - val_accuracy: 0.0000e+00\n",
            "Epoch 37/100\n",
            "51/51 [==============================] - ETA: 0s - loss: nan - accuracy: 0.0000e+00\n",
            "Epoch 37: accuracy did not improve from 0.25899\n",
            "51/51 [==============================] - 6s 116ms/step - loss: nan - accuracy: 0.0000e+00 - val_loss: nan - val_accuracy: 0.0000e+00\n",
            "Epoch 38/100\n",
            "51/51 [==============================] - ETA: 0s - loss: nan - accuracy: 0.0000e+00\n",
            "Epoch 38: accuracy did not improve from 0.25899\n",
            "51/51 [==============================] - 6s 116ms/step - loss: nan - accuracy: 0.0000e+00 - val_loss: nan - val_accuracy: 0.0000e+00\n",
            "Epoch 39/100\n",
            "51/51 [==============================] - ETA: 0s - loss: nan - accuracy: 0.0000e+00\n",
            "Epoch 39: accuracy did not improve from 0.25899\n",
            "51/51 [==============================] - 6s 116ms/step - loss: nan - accuracy: 0.0000e+00 - val_loss: nan - val_accuracy: 0.0000e+00\n",
            "Epoch 40/100\n",
            "51/51 [==============================] - ETA: 0s - loss: nan - accuracy: 0.0000e+00\n",
            "Epoch 40: accuracy did not improve from 0.25899\n",
            "51/51 [==============================] - 6s 117ms/step - loss: nan - accuracy: 0.0000e+00 - val_loss: nan - val_accuracy: 0.0000e+00\n",
            "Epoch 41/100\n",
            "51/51 [==============================] - ETA: 0s - loss: nan - accuracy: 0.0000e+00\n",
            "Epoch 41: accuracy did not improve from 0.25899\n",
            "51/51 [==============================] - 6s 116ms/step - loss: nan - accuracy: 0.0000e+00 - val_loss: nan - val_accuracy: 0.0000e+00\n",
            "Epoch 42/100\n",
            "51/51 [==============================] - ETA: 0s - loss: nan - accuracy: 0.0000e+00\n",
            "Epoch 42: accuracy did not improve from 0.25899\n",
            "51/51 [==============================] - 6s 117ms/step - loss: nan - accuracy: 0.0000e+00 - val_loss: nan - val_accuracy: 0.0000e+00\n",
            "Epoch 43/100\n",
            "51/51 [==============================] - ETA: 0s - loss: nan - accuracy: 0.0000e+00\n",
            "Epoch 43: accuracy did not improve from 0.25899\n",
            "51/51 [==============================] - 6s 117ms/step - loss: nan - accuracy: 0.0000e+00 - val_loss: nan - val_accuracy: 0.0000e+00\n",
            "Epoch 44/100\n",
            "51/51 [==============================] - ETA: 0s - loss: nan - accuracy: 0.0000e+00\n",
            "Epoch 44: accuracy did not improve from 0.25899\n",
            "51/51 [==============================] - 6s 116ms/step - loss: nan - accuracy: 0.0000e+00 - val_loss: nan - val_accuracy: 0.0000e+00\n",
            "Epoch 45/100\n",
            "51/51 [==============================] - ETA: 0s - loss: nan - accuracy: 0.0000e+00\n",
            "Epoch 45: accuracy did not improve from 0.25899\n",
            "51/51 [==============================] - 6s 117ms/step - loss: nan - accuracy: 0.0000e+00 - val_loss: nan - val_accuracy: 0.0000e+00\n",
            "Epoch 46/100\n",
            "51/51 [==============================] - ETA: 0s - loss: nan - accuracy: 0.0000e+00\n",
            "Epoch 46: accuracy did not improve from 0.25899\n",
            "51/51 [==============================] - 6s 120ms/step - loss: nan - accuracy: 0.0000e+00 - val_loss: nan - val_accuracy: 0.0000e+00\n",
            "Epoch 47/100\n",
            "51/51 [==============================] - ETA: 0s - loss: nan - accuracy: 0.0000e+00\n",
            "Epoch 47: accuracy did not improve from 0.25899\n",
            "51/51 [==============================] - 6s 117ms/step - loss: nan - accuracy: 0.0000e+00 - val_loss: nan - val_accuracy: 0.0000e+00\n",
            "Epoch 48/100\n",
            "51/51 [==============================] - ETA: 0s - loss: nan - accuracy: 0.0000e+00\n",
            "Epoch 48: accuracy did not improve from 0.25899\n",
            "51/51 [==============================] - 6s 117ms/step - loss: nan - accuracy: 0.0000e+00 - val_loss: nan - val_accuracy: 0.0000e+00\n",
            "Epoch 49/100\n",
            "51/51 [==============================] - ETA: 0s - loss: nan - accuracy: 0.0000e+00\n",
            "Epoch 49: accuracy did not improve from 0.25899\n",
            "51/51 [==============================] - 6s 117ms/step - loss: nan - accuracy: 0.0000e+00 - val_loss: nan - val_accuracy: 0.0000e+00\n",
            "Epoch 50/100\n",
            "51/51 [==============================] - ETA: 0s - loss: nan - accuracy: 0.0000e+00\n",
            "Epoch 50: accuracy did not improve from 0.25899\n",
            "51/51 [==============================] - 6s 117ms/step - loss: nan - accuracy: 0.0000e+00 - val_loss: nan - val_accuracy: 0.0000e+00\n",
            "Epoch 51/100\n",
            "51/51 [==============================] - ETA: 0s - loss: nan - accuracy: 0.0000e+00\n",
            "Epoch 51: accuracy did not improve from 0.25899\n",
            "51/51 [==============================] - 6s 116ms/step - loss: nan - accuracy: 0.0000e+00 - val_loss: nan - val_accuracy: 0.0000e+00\n",
            "Epoch 52/100\n",
            "51/51 [==============================] - ETA: 0s - loss: nan - accuracy: 0.0000e+00\n",
            "Epoch 52: accuracy did not improve from 0.25899\n",
            "51/51 [==============================] - 6s 116ms/step - loss: nan - accuracy: 0.0000e+00 - val_loss: nan - val_accuracy: 0.0000e+00\n",
            "Epoch 53/100\n",
            "51/51 [==============================] - ETA: 0s - loss: nan - accuracy: 0.0000e+00\n",
            "Epoch 53: accuracy did not improve from 0.25899\n",
            "51/51 [==============================] - 6s 117ms/step - loss: nan - accuracy: 0.0000e+00 - val_loss: nan - val_accuracy: 0.0000e+00\n",
            "Epoch 54/100\n",
            "51/51 [==============================] - ETA: 0s - loss: nan - accuracy: 0.0000e+00\n",
            "Epoch 54: accuracy did not improve from 0.25899\n",
            "51/51 [==============================] - 6s 119ms/step - loss: nan - accuracy: 0.0000e+00 - val_loss: nan - val_accuracy: 0.0000e+00\n",
            "Epoch 55/100\n",
            "51/51 [==============================] - ETA: 0s - loss: nan - accuracy: 0.0000e+00\n",
            "Epoch 55: accuracy did not improve from 0.25899\n",
            "51/51 [==============================] - 6s 116ms/step - loss: nan - accuracy: 0.0000e+00 - val_loss: nan - val_accuracy: 0.0000e+00\n",
            "Epoch 56/100\n",
            "51/51 [==============================] - ETA: 0s - loss: nan - accuracy: 0.0000e+00\n",
            "Epoch 56: accuracy did not improve from 0.25899\n",
            "51/51 [==============================] - 6s 117ms/step - loss: nan - accuracy: 0.0000e+00 - val_loss: nan - val_accuracy: 0.0000e+00\n",
            "Epoch 57/100\n",
            "51/51 [==============================] - ETA: 0s - loss: nan - accuracy: 0.0000e+00\n",
            "Epoch 57: accuracy did not improve from 0.25899\n",
            "51/51 [==============================] - 6s 116ms/step - loss: nan - accuracy: 0.0000e+00 - val_loss: nan - val_accuracy: 0.0000e+00\n",
            "Epoch 58/100\n",
            "51/51 [==============================] - ETA: 0s - loss: nan - accuracy: 0.0000e+00\n",
            "Epoch 58: accuracy did not improve from 0.25899\n",
            "51/51 [==============================] - 6s 117ms/step - loss: nan - accuracy: 0.0000e+00 - val_loss: nan - val_accuracy: 0.0000e+00\n",
            "Epoch 59/100\n",
            "51/51 [==============================] - ETA: 0s - loss: nan - accuracy: 0.0000e+00\n",
            "Epoch 59: accuracy did not improve from 0.25899\n",
            "51/51 [==============================] - 6s 117ms/step - loss: nan - accuracy: 0.0000e+00 - val_loss: nan - val_accuracy: 0.0000e+00\n",
            "Epoch 60/100\n",
            "51/51 [==============================] - ETA: 0s - loss: nan - accuracy: 0.0000e+00\n",
            "Epoch 60: accuracy did not improve from 0.25899\n",
            "51/51 [==============================] - 6s 116ms/step - loss: nan - accuracy: 0.0000e+00 - val_loss: nan - val_accuracy: 0.0000e+00\n",
            "Epoch 61/100\n",
            "51/51 [==============================] - ETA: 0s - loss: nan - accuracy: 0.0000e+00\n",
            "Epoch 61: accuracy did not improve from 0.25899\n",
            "51/51 [==============================] - 6s 119ms/step - loss: nan - accuracy: 0.0000e+00 - val_loss: nan - val_accuracy: 0.0000e+00\n",
            "Epoch 62/100\n",
            "51/51 [==============================] - ETA: 0s - loss: nan - accuracy: 0.0000e+00\n",
            "Epoch 62: accuracy did not improve from 0.25899\n",
            "51/51 [==============================] - 6s 119ms/step - loss: nan - accuracy: 0.0000e+00 - val_loss: nan - val_accuracy: 0.0000e+00\n",
            "Epoch 63/100\n",
            "51/51 [==============================] - ETA: 0s - loss: nan - accuracy: 0.0000e+00\n",
            "Epoch 63: accuracy did not improve from 0.25899\n",
            "51/51 [==============================] - 6s 116ms/step - loss: nan - accuracy: 0.0000e+00 - val_loss: nan - val_accuracy: 0.0000e+00\n",
            "Epoch 64/100\n",
            "51/51 [==============================] - ETA: 0s - loss: nan - accuracy: 0.0000e+00\n",
            "Epoch 64: accuracy did not improve from 0.25899\n",
            "51/51 [==============================] - 6s 117ms/step - loss: nan - accuracy: 0.0000e+00 - val_loss: nan - val_accuracy: 0.0000e+00\n",
            "Epoch 65/100\n",
            "51/51 [==============================] - ETA: 0s - loss: nan - accuracy: 0.0000e+00\n",
            "Epoch 65: accuracy did not improve from 0.25899\n",
            "51/51 [==============================] - 6s 117ms/step - loss: nan - accuracy: 0.0000e+00 - val_loss: nan - val_accuracy: 0.0000e+00\n",
            "Epoch 66/100\n",
            "51/51 [==============================] - ETA: 0s - loss: nan - accuracy: 0.0000e+00\n",
            "Epoch 66: accuracy did not improve from 0.25899\n",
            "51/51 [==============================] - 6s 117ms/step - loss: nan - accuracy: 0.0000e+00 - val_loss: nan - val_accuracy: 0.0000e+00\n",
            "Epoch 67/100\n",
            "51/51 [==============================] - ETA: 0s - loss: nan - accuracy: 0.0000e+00\n",
            "Epoch 67: accuracy did not improve from 0.25899\n",
            "51/51 [==============================] - 6s 117ms/step - loss: nan - accuracy: 0.0000e+00 - val_loss: nan - val_accuracy: 0.0000e+00\n",
            "Epoch 68/100\n",
            "51/51 [==============================] - ETA: 0s - loss: nan - accuracy: 0.0000e+00\n",
            "Epoch 68: accuracy did not improve from 0.25899\n",
            "51/51 [==============================] - 6s 117ms/step - loss: nan - accuracy: 0.0000e+00 - val_loss: nan - val_accuracy: 0.0000e+00\n",
            "Epoch 69/100\n",
            "51/51 [==============================] - ETA: 0s - loss: nan - accuracy: 0.0000e+00\n",
            "Epoch 69: accuracy did not improve from 0.25899\n",
            "51/51 [==============================] - 6s 118ms/step - loss: nan - accuracy: 0.0000e+00 - val_loss: nan - val_accuracy: 0.0000e+00\n",
            "Epoch 70/100\n",
            "51/51 [==============================] - ETA: 0s - loss: nan - accuracy: 0.0000e+00\n",
            "Epoch 70: accuracy did not improve from 0.25899\n",
            "51/51 [==============================] - 6s 118ms/step - loss: nan - accuracy: 0.0000e+00 - val_loss: nan - val_accuracy: 0.0000e+00\n",
            "Epoch 71/100\n",
            "51/51 [==============================] - ETA: 0s - loss: nan - accuracy: 0.0000e+00\n",
            "Epoch 71: accuracy did not improve from 0.25899\n",
            "51/51 [==============================] - 6s 116ms/step - loss: nan - accuracy: 0.0000e+00 - val_loss: nan - val_accuracy: 0.0000e+00\n",
            "Epoch 72/100\n",
            "51/51 [==============================] - ETA: 0s - loss: nan - accuracy: 0.0000e+00\n",
            "Epoch 72: accuracy did not improve from 0.25899\n",
            "51/51 [==============================] - 6s 117ms/step - loss: nan - accuracy: 0.0000e+00 - val_loss: nan - val_accuracy: 0.0000e+00\n",
            "Epoch 73/100\n",
            "51/51 [==============================] - ETA: 0s - loss: nan - accuracy: 0.0000e+00\n",
            "Epoch 73: accuracy did not improve from 0.25899\n",
            "51/51 [==============================] - 6s 117ms/step - loss: nan - accuracy: 0.0000e+00 - val_loss: nan - val_accuracy: 0.0000e+00\n",
            "Epoch 74/100\n",
            "51/51 [==============================] - ETA: 0s - loss: nan - accuracy: 0.0000e+00\n",
            "Epoch 74: accuracy did not improve from 0.25899\n",
            "51/51 [==============================] - 6s 117ms/step - loss: nan - accuracy: 0.0000e+00 - val_loss: nan - val_accuracy: 0.0000e+00\n",
            "Epoch 75/100\n",
            "51/51 [==============================] - ETA: 0s - loss: nan - accuracy: 0.0000e+00\n",
            "Epoch 75: accuracy did not improve from 0.25899\n",
            "51/51 [==============================] - 6s 117ms/step - loss: nan - accuracy: 0.0000e+00 - val_loss: nan - val_accuracy: 0.0000e+00\n",
            "Epoch 76/100\n",
            "51/51 [==============================] - ETA: 0s - loss: nan - accuracy: 0.0000e+00\n",
            "Epoch 76: accuracy did not improve from 0.25899\n",
            "51/51 [==============================] - 6s 116ms/step - loss: nan - accuracy: 0.0000e+00 - val_loss: nan - val_accuracy: 0.0000e+00\n",
            "Epoch 77/100\n",
            "51/51 [==============================] - ETA: 0s - loss: nan - accuracy: 0.0000e+00\n",
            "Epoch 77: accuracy did not improve from 0.25899\n",
            "51/51 [==============================] - 6s 117ms/step - loss: nan - accuracy: 0.0000e+00 - val_loss: nan - val_accuracy: 0.0000e+00\n",
            "Epoch 78/100\n",
            "51/51 [==============================] - ETA: 0s - loss: nan - accuracy: 0.0000e+00\n",
            "Epoch 78: accuracy did not improve from 0.25899\n",
            "51/51 [==============================] - 6s 117ms/step - loss: nan - accuracy: 0.0000e+00 - val_loss: nan - val_accuracy: 0.0000e+00\n",
            "Epoch 79/100\n",
            "51/51 [==============================] - ETA: 0s - loss: nan - accuracy: 0.0000e+00\n",
            "Epoch 79: accuracy did not improve from 0.25899\n",
            "51/51 [==============================] - 6s 117ms/step - loss: nan - accuracy: 0.0000e+00 - val_loss: nan - val_accuracy: 0.0000e+00\n",
            "Epoch 80/100\n",
            "51/51 [==============================] - ETA: 0s - loss: nan - accuracy: 0.0000e+00\n",
            "Epoch 80: accuracy did not improve from 0.25899\n",
            "51/51 [==============================] - 6s 117ms/step - loss: nan - accuracy: 0.0000e+00 - val_loss: nan - val_accuracy: 0.0000e+00\n",
            "Epoch 81/100\n",
            "51/51 [==============================] - ETA: 0s - loss: nan - accuracy: 0.0000e+00\n",
            "Epoch 81: accuracy did not improve from 0.25899\n",
            "51/51 [==============================] - 6s 117ms/step - loss: nan - accuracy: 0.0000e+00 - val_loss: nan - val_accuracy: 0.0000e+00\n",
            "Epoch 82/100\n",
            "51/51 [==============================] - ETA: 0s - loss: nan - accuracy: 0.0000e+00\n",
            "Epoch 82: accuracy did not improve from 0.25899\n",
            "51/51 [==============================] - 6s 116ms/step - loss: nan - accuracy: 0.0000e+00 - val_loss: nan - val_accuracy: 0.0000e+00\n",
            "Epoch 83/100\n",
            "51/51 [==============================] - ETA: 0s - loss: nan - accuracy: 0.0000e+00\n",
            "Epoch 83: accuracy did not improve from 0.25899\n",
            "51/51 [==============================] - 6s 117ms/step - loss: nan - accuracy: 0.0000e+00 - val_loss: nan - val_accuracy: 0.0000e+00\n",
            "Epoch 84/100\n",
            "51/51 [==============================] - ETA: 0s - loss: nan - accuracy: 0.0000e+00\n",
            "Epoch 84: accuracy did not improve from 0.25899\n",
            "51/51 [==============================] - 6s 120ms/step - loss: nan - accuracy: 0.0000e+00 - val_loss: nan - val_accuracy: 0.0000e+00\n",
            "Epoch 85/100\n",
            "51/51 [==============================] - ETA: 0s - loss: nan - accuracy: 0.0000e+00\n",
            "Epoch 85: accuracy did not improve from 0.25899\n",
            "51/51 [==============================] - 6s 117ms/step - loss: nan - accuracy: 0.0000e+00 - val_loss: nan - val_accuracy: 0.0000e+00\n",
            "Epoch 86/100\n",
            "51/51 [==============================] - ETA: 0s - loss: nan - accuracy: 0.0000e+00\n",
            "Epoch 86: accuracy did not improve from 0.25899\n",
            "51/51 [==============================] - 6s 117ms/step - loss: nan - accuracy: 0.0000e+00 - val_loss: nan - val_accuracy: 0.0000e+00\n",
            "Epoch 87/100\n",
            "51/51 [==============================] - ETA: 0s - loss: nan - accuracy: 0.0000e+00\n",
            "Epoch 87: accuracy did not improve from 0.25899\n",
            "51/51 [==============================] - 6s 117ms/step - loss: nan - accuracy: 0.0000e+00 - val_loss: nan - val_accuracy: 0.0000e+00\n",
            "Epoch 88/100\n",
            "51/51 [==============================] - ETA: 0s - loss: nan - accuracy: 0.0000e+00\n",
            "Epoch 88: accuracy did not improve from 0.25899\n",
            "51/51 [==============================] - 6s 117ms/step - loss: nan - accuracy: 0.0000e+00 - val_loss: nan - val_accuracy: 0.0000e+00\n",
            "Epoch 89/100\n",
            "51/51 [==============================] - ETA: 0s - loss: nan - accuracy: 0.0000e+00\n",
            "Epoch 89: accuracy did not improve from 0.25899\n",
            "51/51 [==============================] - 6s 117ms/step - loss: nan - accuracy: 0.0000e+00 - val_loss: nan - val_accuracy: 0.0000e+00\n",
            "Epoch 90/100\n",
            "51/51 [==============================] - ETA: 0s - loss: nan - accuracy: 0.0000e+00\n",
            "Epoch 90: accuracy did not improve from 0.25899\n",
            "51/51 [==============================] - 6s 117ms/step - loss: nan - accuracy: 0.0000e+00 - val_loss: nan - val_accuracy: 0.0000e+00\n",
            "Epoch 91/100\n",
            "51/51 [==============================] - ETA: 0s - loss: nan - accuracy: 0.0000e+00\n",
            "Epoch 91: accuracy did not improve from 0.25899\n",
            "51/51 [==============================] - 6s 117ms/step - loss: nan - accuracy: 0.0000e+00 - val_loss: nan - val_accuracy: 0.0000e+00\n",
            "Epoch 92/100\n",
            "51/51 [==============================] - ETA: 0s - loss: nan - accuracy: 0.0000e+00\n",
            "Epoch 92: accuracy did not improve from 0.25899\n",
            "51/51 [==============================] - 6s 117ms/step - loss: nan - accuracy: 0.0000e+00 - val_loss: nan - val_accuracy: 0.0000e+00\n",
            "Epoch 93/100\n",
            "51/51 [==============================] - ETA: 0s - loss: nan - accuracy: 0.0000e+00\n",
            "Epoch 93: accuracy did not improve from 0.25899\n",
            "51/51 [==============================] - 6s 118ms/step - loss: nan - accuracy: 0.0000e+00 - val_loss: nan - val_accuracy: 0.0000e+00\n",
            "Epoch 94/100\n",
            "51/51 [==============================] - ETA: 0s - loss: nan - accuracy: 0.0000e+00\n",
            "Epoch 94: accuracy did not improve from 0.25899\n",
            "51/51 [==============================] - 6s 118ms/step - loss: nan - accuracy: 0.0000e+00 - val_loss: nan - val_accuracy: 0.0000e+00\n",
            "Epoch 95/100\n",
            "51/51 [==============================] - ETA: 0s - loss: nan - accuracy: 0.0000e+00\n",
            "Epoch 95: accuracy did not improve from 0.25899\n",
            "51/51 [==============================] - 6s 117ms/step - loss: nan - accuracy: 0.0000e+00 - val_loss: nan - val_accuracy: 0.0000e+00\n",
            "Epoch 96/100\n",
            "51/51 [==============================] - ETA: 0s - loss: nan - accuracy: 0.0000e+00\n",
            "Epoch 96: accuracy did not improve from 0.25899\n",
            "51/51 [==============================] - 6s 116ms/step - loss: nan - accuracy: 0.0000e+00 - val_loss: nan - val_accuracy: 0.0000e+00\n",
            "Epoch 97/100\n",
            "51/51 [==============================] - ETA: 0s - loss: nan - accuracy: 0.0000e+00\n",
            "Epoch 97: accuracy did not improve from 0.25899\n",
            "51/51 [==============================] - 6s 117ms/step - loss: nan - accuracy: 0.0000e+00 - val_loss: nan - val_accuracy: 0.0000e+00\n",
            "Epoch 98/100\n",
            "51/51 [==============================] - ETA: 0s - loss: nan - accuracy: 0.0000e+00\n",
            "Epoch 98: accuracy did not improve from 0.25899\n",
            "51/51 [==============================] - 6s 117ms/step - loss: nan - accuracy: 0.0000e+00 - val_loss: nan - val_accuracy: 0.0000e+00\n",
            "Epoch 99/100\n",
            "51/51 [==============================] - ETA: 0s - loss: nan - accuracy: 0.0000e+00\n",
            "Epoch 99: accuracy did not improve from 0.25899\n",
            "51/51 [==============================] - 6s 117ms/step - loss: nan - accuracy: 0.0000e+00 - val_loss: nan - val_accuracy: 0.0000e+00\n",
            "Epoch 100/100\n",
            "51/51 [==============================] - ETA: 0s - loss: nan - accuracy: 0.0000e+00\n",
            "Epoch 100: accuracy did not improve from 0.25899\n",
            "51/51 [==============================] - 6s 117ms/step - loss: nan - accuracy: 0.0000e+00 - val_loss: nan - val_accuracy: 0.0000e+00\n"
          ]
        }
      ]
    },
    {
      "cell_type": "code",
      "source": [
        "model.load_weights('bestmodel.hdf5')"
      ],
      "metadata": {
        "id": "a9jwRvQXclxq"
      },
      "execution_count": 14,
      "outputs": []
    },
    {
      "cell_type": "code",
      "source": [
        "#Evaluation\n",
        "\n",
        "results = model.evaluate(test_x, test_y, batch_size = 100)\n",
        "print(f\"{model.metrics_names}: {results}\")"
      ],
      "metadata": {
        "colab": {
          "base_uri": "https://localhost:8080/"
        },
        "id": "v64kBFpscz4A",
        "outputId": "26d46009-a77f-49c2-cb87-1bb081ac2a67"
      },
      "execution_count": 15,
      "outputs": [
        {
          "output_type": "stream",
          "name": "stdout",
          "text": [
            "29/29 [==============================] - 1s 40ms/step - loss: nan - accuracy: 0.0936\n",
            "['loss', 'accuracy']: [nan, 0.09361997246742249]\n"
          ]
        }
      ]
    }
  ]
}